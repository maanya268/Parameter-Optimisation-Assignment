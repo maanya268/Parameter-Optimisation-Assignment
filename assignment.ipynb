{
 "cells": [
  {
   "cell_type": "code",
   "execution_count": 34,
   "metadata": {},
   "outputs": [],
   "source": [
    "import numpy as np\n",
    "import pandas as pd\n",
    "import seaborn as sns"
   ]
  },
  {
   "cell_type": "code",
   "execution_count": 45,
   "metadata": {},
   "outputs": [],
   "source": [
    "from sklearn.preprocessing import LabelEncoder, StandardScaler, OneHotEncoder\n",
    "from sklearn.model_selection import train_test_split, GridSearchCV\n",
    "from sklearn.metrics import accuracy_score, confusion_matrix, classification_report\n",
    "from sklearn.svm import SVC\n",
    "\n",
    "import matplotlib.pyplot as plt\n",
    "\n",
    "import warnings\n",
    "warnings.filterwarnings(\"ignore\")"
   ]
  },
  {
   "cell_type": "code",
   "execution_count": 35,
   "metadata": {},
   "outputs": [
    {
     "data": {
      "text/html": [
       "<div>\n",
       "<style scoped>\n",
       "    .dataframe tbody tr th:only-of-type {\n",
       "        vertical-align: middle;\n",
       "    }\n",
       "\n",
       "    .dataframe tbody tr th {\n",
       "        vertical-align: top;\n",
       "    }\n",
       "\n",
       "    .dataframe thead th {\n",
       "        text-align: right;\n",
       "    }\n",
       "</style>\n",
       "<table border=\"1\" class=\"dataframe\">\n",
       "  <thead>\n",
       "    <tr style=\"text-align: right;\">\n",
       "      <th></th>\n",
       "      <th>Area</th>\n",
       "      <th>Perimeter</th>\n",
       "      <th>MajorAxisLength</th>\n",
       "      <th>MinorAxisLength</th>\n",
       "      <th>AspectRation</th>\n",
       "      <th>Eccentricity</th>\n",
       "      <th>ConvexArea</th>\n",
       "      <th>EquivDiameter</th>\n",
       "      <th>Extent</th>\n",
       "      <th>Solidity</th>\n",
       "      <th>roundness</th>\n",
       "      <th>Compactness</th>\n",
       "      <th>ShapeFactor1</th>\n",
       "      <th>ShapeFactor2</th>\n",
       "      <th>ShapeFactor3</th>\n",
       "      <th>ShapeFactor4</th>\n",
       "      <th>Class</th>\n",
       "    </tr>\n",
       "  </thead>\n",
       "  <tbody>\n",
       "    <tr>\n",
       "      <th>0</th>\n",
       "      <td>28395</td>\n",
       "      <td>610.291</td>\n",
       "      <td>208.178117</td>\n",
       "      <td>173.888747</td>\n",
       "      <td>1.197191</td>\n",
       "      <td>0.549812</td>\n",
       "      <td>28715</td>\n",
       "      <td>190.141097</td>\n",
       "      <td>0.763923</td>\n",
       "      <td>0.988856</td>\n",
       "      <td>0.958027</td>\n",
       "      <td>0.913358</td>\n",
       "      <td>0.007332</td>\n",
       "      <td>0.003147</td>\n",
       "      <td>0.834222</td>\n",
       "      <td>0.998724</td>\n",
       "      <td>SEKER</td>\n",
       "    </tr>\n",
       "    <tr>\n",
       "      <th>1</th>\n",
       "      <td>28734</td>\n",
       "      <td>638.018</td>\n",
       "      <td>200.524796</td>\n",
       "      <td>182.734419</td>\n",
       "      <td>1.097356</td>\n",
       "      <td>0.411785</td>\n",
       "      <td>29172</td>\n",
       "      <td>191.272751</td>\n",
       "      <td>0.783968</td>\n",
       "      <td>0.984986</td>\n",
       "      <td>0.887034</td>\n",
       "      <td>0.953861</td>\n",
       "      <td>0.006979</td>\n",
       "      <td>0.003564</td>\n",
       "      <td>0.909851</td>\n",
       "      <td>0.998430</td>\n",
       "      <td>SEKER</td>\n",
       "    </tr>\n",
       "    <tr>\n",
       "      <th>2</th>\n",
       "      <td>29380</td>\n",
       "      <td>624.110</td>\n",
       "      <td>212.826130</td>\n",
       "      <td>175.931143</td>\n",
       "      <td>1.209713</td>\n",
       "      <td>0.562727</td>\n",
       "      <td>29690</td>\n",
       "      <td>193.410904</td>\n",
       "      <td>0.778113</td>\n",
       "      <td>0.989559</td>\n",
       "      <td>0.947849</td>\n",
       "      <td>0.908774</td>\n",
       "      <td>0.007244</td>\n",
       "      <td>0.003048</td>\n",
       "      <td>0.825871</td>\n",
       "      <td>0.999066</td>\n",
       "      <td>SEKER</td>\n",
       "    </tr>\n",
       "    <tr>\n",
       "      <th>3</th>\n",
       "      <td>30008</td>\n",
       "      <td>645.884</td>\n",
       "      <td>210.557999</td>\n",
       "      <td>182.516516</td>\n",
       "      <td>1.153638</td>\n",
       "      <td>0.498616</td>\n",
       "      <td>30724</td>\n",
       "      <td>195.467062</td>\n",
       "      <td>0.782681</td>\n",
       "      <td>0.976696</td>\n",
       "      <td>0.903936</td>\n",
       "      <td>0.928329</td>\n",
       "      <td>0.007017</td>\n",
       "      <td>0.003215</td>\n",
       "      <td>0.861794</td>\n",
       "      <td>0.994199</td>\n",
       "      <td>SEKER</td>\n",
       "    </tr>\n",
       "    <tr>\n",
       "      <th>4</th>\n",
       "      <td>30140</td>\n",
       "      <td>620.134</td>\n",
       "      <td>201.847882</td>\n",
       "      <td>190.279279</td>\n",
       "      <td>1.060798</td>\n",
       "      <td>0.333680</td>\n",
       "      <td>30417</td>\n",
       "      <td>195.896503</td>\n",
       "      <td>0.773098</td>\n",
       "      <td>0.990893</td>\n",
       "      <td>0.984877</td>\n",
       "      <td>0.970516</td>\n",
       "      <td>0.006697</td>\n",
       "      <td>0.003665</td>\n",
       "      <td>0.941900</td>\n",
       "      <td>0.999166</td>\n",
       "      <td>SEKER</td>\n",
       "    </tr>\n",
       "  </tbody>\n",
       "</table>\n",
       "</div>"
      ],
      "text/plain": [
       "    Area  Perimeter  MajorAxisLength  MinorAxisLength  AspectRation  \\\n",
       "0  28395    610.291       208.178117       173.888747      1.197191   \n",
       "1  28734    638.018       200.524796       182.734419      1.097356   \n",
       "2  29380    624.110       212.826130       175.931143      1.209713   \n",
       "3  30008    645.884       210.557999       182.516516      1.153638   \n",
       "4  30140    620.134       201.847882       190.279279      1.060798   \n",
       "\n",
       "   Eccentricity  ConvexArea  EquivDiameter    Extent  Solidity  roundness  \\\n",
       "0      0.549812       28715     190.141097  0.763923  0.988856   0.958027   \n",
       "1      0.411785       29172     191.272751  0.783968  0.984986   0.887034   \n",
       "2      0.562727       29690     193.410904  0.778113  0.989559   0.947849   \n",
       "3      0.498616       30724     195.467062  0.782681  0.976696   0.903936   \n",
       "4      0.333680       30417     195.896503  0.773098  0.990893   0.984877   \n",
       "\n",
       "   Compactness  ShapeFactor1  ShapeFactor2  ShapeFactor3  ShapeFactor4  Class  \n",
       "0     0.913358      0.007332      0.003147      0.834222      0.998724  SEKER  \n",
       "1     0.953861      0.006979      0.003564      0.909851      0.998430  SEKER  \n",
       "2     0.908774      0.007244      0.003048      0.825871      0.999066  SEKER  \n",
       "3     0.928329      0.007017      0.003215      0.861794      0.994199  SEKER  \n",
       "4     0.970516      0.006697      0.003665      0.941900      0.999166  SEKER  "
      ]
     },
     "execution_count": 35,
     "metadata": {},
     "output_type": "execute_result"
    }
   ],
   "source": [
    "df = pd.read_csv(\"dataset.csv\")\n",
    "df.head()\n"
   ]
  },
  {
   "cell_type": "code",
   "execution_count": 36,
   "metadata": {},
   "outputs": [
    {
     "data": {
      "text/plain": [
       "(13611, 17)"
      ]
     },
     "execution_count": 36,
     "metadata": {},
     "output_type": "execute_result"
    }
   ],
   "source": [
    "df.shape"
   ]
  },
  {
   "cell_type": "code",
   "execution_count": 37,
   "metadata": {},
   "outputs": [
    {
     "data": {
      "text/plain": [
       "Area               0\n",
       "Perimeter          0\n",
       "MajorAxisLength    0\n",
       "MinorAxisLength    0\n",
       "AspectRation       0\n",
       "Eccentricity       0\n",
       "ConvexArea         0\n",
       "EquivDiameter      0\n",
       "Extent             0\n",
       "Solidity           0\n",
       "roundness          0\n",
       "Compactness        0\n",
       "ShapeFactor1       0\n",
       "ShapeFactor2       0\n",
       "ShapeFactor3       0\n",
       "ShapeFactor4       0\n",
       "Class              0\n",
       "dtype: int64"
      ]
     },
     "execution_count": 37,
     "metadata": {},
     "output_type": "execute_result"
    }
   ],
   "source": [
    "df.isnull().sum()"
   ]
  },
  {
   "cell_type": "code",
   "execution_count": 38,
   "metadata": {},
   "outputs": [
    {
     "data": {
      "text/plain": [
       "<Axes: >"
      ]
     },
     "execution_count": 38,
     "metadata": {},
     "output_type": "execute_result"
    },
    {
     "data": {
      "image/png": "[encoded data removed]",
      "text/plain": [
       "<Figure size 640x480 with 1 Axes>"
      ]
     },
     "metadata": {},
     "output_type": "display_data"
    }
   ],
   "source": [
    "df.Class.value_counts(normalize=True).plot(kind='bar')"
   ]
  },
  {
   "cell_type": "code",
   "execution_count": 19,
   "metadata": {},
   "outputs": [
    {
     "name": "stdout",
     "output_type": "stream",
     "text": [
      "mean Area of a Bean :  53048.284549261625\n",
      "mean Perimeter of a Bean :  855.283458599662\n"
     ]
    }
   ],
   "source": [
    "print(\"mean Area of a Bean : \",df.Area.mean())\n",
    "print(\"mean Perimeter of a Bean : \",df.Perimeter.mean())"
   ]
  },
  {
   "cell_type": "code",
   "execution_count": 33,
   "metadata": {},
   "outputs": [
    {
     "name": "stderr",
     "output_type": "stream",
     "text": [
      "C:\\Users\\asus\\AppData\\Local\\Temp\\ipykernel_18664\\1744796369.py:1: FutureWarning: The default value of numeric_only in DataFrame.corr is deprecated. In a future version, it will default to False. Select only valid columns or specify the value of numeric_only to silence this warning.\n",
      "  corr_matrix = df.corr()\n"
     ]
    },
    {
     "data": {
      "text/plain": [
       "<Axes: >"
      ]
     },
     "execution_count": 33,
     "metadata": {},
     "output_type": "execute_result"
    },
    {
     "data": {
      "image/png": "[encoded data removed]",
      "text/plain": [
       "<Figure size 640x480 with 2 Axes>"
      ]
     },
     "metadata": {},
     "output_type": "display_data"
    }
   ],
   "source": [
    "corr_matrix = df.corr()\n",
    "sns.heatmap(corr_matrix,cmap='coolwarm')"
   ]
  },
  {
   "cell_type": "code",
   "execution_count": 47,
   "metadata": {},
   "outputs": [
    {
     "name": "stdout",
     "output_type": "stream",
     "text": [
      "{'C': 3, 'degree': 1, 'gamma': 0.001, 'kernel': 'poly'}\n",
      "Sample 1\n",
      "Accuracy: 0.26499388004895963\n",
      "\n",
      "{'C': 3, 'degree': 1, 'gamma': 0.1, 'kernel': 'poly'}\n",
      "Sample 2\n",
      "Accuracy: 0.26621787025703797\n",
      "\n",
      "{'C': 1, 'degree': 1, 'gamma': 0.0001, 'kernel': 'rbf'}\n",
      "Sample 3\n",
      "Accuracy: 0.5177478580171359\n",
      "\n",
      "{'C': 0.5, 'degree': 1, 'gamma': 0.001, 'kernel': 'rbf'}\n",
      "Sample 4\n",
      "Accuracy: 0.33108935128518974\n",
      "\n",
      "{'C': 3, 'degree': 1, 'gamma': 0.01, 'kernel': 'poly'}\n",
      "Sample 5\n",
      "Accuracy: 0.518359853121175\n",
      "\n",
      "{'C': 0.1, 'degree': 1, 'gamma': 0.0001, 'kernel': 'rbf'}\n",
      "Sample 6\n",
      "Accuracy: 0.5116279069767442\n",
      "\n",
      "{'C': 0.1, 'degree': 1, 'gamma': 0.001, 'kernel': 'rbf'}\n",
      "Sample 7\n",
      "Accuracy: 0.47980416156670747\n",
      "\n",
      "{'C': 2, 'degree': 1, 'gamma': 0.01, 'kernel': 'poly'}\n",
      "Sample 8\n",
      "Accuracy: 0.25458996328029376\n",
      "\n",
      "{'C': 0.5, 'degree': 1, 'gamma': 0.0001, 'kernel': 'rbf'}\n",
      "Sample 9\n",
      "Accuracy: 0.5006119951040392\n",
      "\n",
      "{'C': 0.5, 'degree': 1, 'gamma': 0.01, 'kernel': 'poly'}\n",
      "Sample 10\n",
      "Accuracy: 0.3353733170134639\n",
      "\n"
     ]
    }
   ],
   "source": [
    "max_acc = 0\n",
    "acc_list = []\n",
    "param_list = []\n",
    "for i in range(10):\n",
    "    sample_df = df.sample(frac=0.40, replace=False)\n",
    "    x_train, x_test, y_train, y_test = train_test_split(sample_df.drop('Class', axis=1), sample_df.Class, test_size=0.3, random_state=42, stratify=sample_df.Class)\n",
    "    # x_train = StandardScaler().fit_transform(x_train)\n",
    "    param_grid = { \n",
    "                'C':[0.1, 0.5, 1, 2, 3],\n",
    "                'kernel':['rbf', 'poly', 'sigmoid', 'linear'],\n",
    "                'degree':[1, 2, 3, 4],\n",
    "                'gamma': [1, 0.1, 0.01, 0.001, 0.0001]\n",
    "                }\n",
    "    \n",
    "    grid = GridSearchCV(SVC(max_iter=100), param_grid)\n",
    "    grid.fit(x_train, y_train)  \n",
    "    y_pred = grid.predict(x_test)\n",
    "    print(grid.best_params_)\n",
    "    print('Sample {}'.format(i+1))\n",
    "    print('Accuracy: {}\\n'.format(accuracy_score(y_test, y_pred))) \n",
    "    \n",
    "    acc_list.append(accuracy_score(y_test, y_pred))\n",
    "    param_list.append(grid.best_params_)\n",
    "    \n",
    "    if accuracy_score(y_test, y_pred) > max_acc:\n",
    "        max_acc = accuracy_score(y_test, y_pred)\n",
    "        best_params = grid.best_params_\n",
    "        best_model = grid.best_estimator_\n",
    "        best_sample_df = sample_df"
   ]
  },
  {
   "cell_type": "code",
   "execution_count": 48,
   "metadata": {},
   "outputs": [
    {
     "name": "stdout",
     "output_type": "stream",
     "text": [
      "[0.26499388004895963, 0.26621787025703797, 0.5177478580171359, 0.33108935128518974, 0.518359853121175, 0.5116279069767442, 0.47980416156670747, 0.25458996328029376, 0.5006119951040392, 0.3353733170134639]\n",
      "[{'C': 3, 'degree': 1, 'gamma': 0.001, 'kernel': 'poly'}, {'C': 3, 'degree': 1, 'gamma': 0.1, 'kernel': 'poly'}, {'C': 1, 'degree': 1, 'gamma': 0.0001, 'kernel': 'rbf'}, {'C': 0.5, 'degree': 1, 'gamma': 0.001, 'kernel': 'rbf'}, {'C': 3, 'degree': 1, 'gamma': 0.01, 'kernel': 'poly'}, {'C': 0.1, 'degree': 1, 'gamma': 0.0001, 'kernel': 'rbf'}, {'C': 0.1, 'degree': 1, 'gamma': 0.001, 'kernel': 'rbf'}, {'C': 2, 'degree': 1, 'gamma': 0.01, 'kernel': 'poly'}, {'C': 0.5, 'degree': 1, 'gamma': 0.0001, 'kernel': 'rbf'}, {'C': 0.5, 'degree': 1, 'gamma': 0.01, 'kernel': 'poly'}]\n"
     ]
    }
   ],
   "source": [
    "print(acc_list)\n",
    "print(param_list)"
   ]
  },
  {
   "cell_type": "code",
   "execution_count": 49,
   "metadata": {},
   "outputs": [
    {
     "data": {
      "text/html": [
       "<div>\n",
       "<style scoped>\n",
       "    .dataframe tbody tr th:only-of-type {\n",
       "        vertical-align: middle;\n",
       "    }\n",
       "\n",
       "    .dataframe tbody tr th {\n",
       "        vertical-align: top;\n",
       "    }\n",
       "\n",
       "    .dataframe thead th {\n",
       "        text-align: right;\n",
       "    }\n",
       "</style>\n",
       "<table border=\"1\" class=\"dataframe\">\n",
       "  <thead>\n",
       "    <tr style=\"text-align: right;\">\n",
       "      <th></th>\n",
       "      <th>Accuracy</th>\n",
       "      <th>Parameters</th>\n",
       "    </tr>\n",
       "  </thead>\n",
       "  <tbody>\n",
       "    <tr>\n",
       "      <th>0</th>\n",
       "      <td>0.264994</td>\n",
       "      <td>{'C': 3, 'degree': 1, 'gamma': 0.001, 'kernel'...</td>\n",
       "    </tr>\n",
       "    <tr>\n",
       "      <th>1</th>\n",
       "      <td>0.266218</td>\n",
       "      <td>{'C': 3, 'degree': 1, 'gamma': 0.1, 'kernel': ...</td>\n",
       "    </tr>\n",
       "    <tr>\n",
       "      <th>2</th>\n",
       "      <td>0.517748</td>\n",
       "      <td>{'C': 1, 'degree': 1, 'gamma': 0.0001, 'kernel...</td>\n",
       "    </tr>\n",
       "    <tr>\n",
       "      <th>3</th>\n",
       "      <td>0.331089</td>\n",
       "      <td>{'C': 0.5, 'degree': 1, 'gamma': 0.001, 'kerne...</td>\n",
       "    </tr>\n",
       "    <tr>\n",
       "      <th>4</th>\n",
       "      <td>0.51836</td>\n",
       "      <td>{'C': 3, 'degree': 1, 'gamma': 0.01, 'kernel':...</td>\n",
       "    </tr>\n",
       "    <tr>\n",
       "      <th>5</th>\n",
       "      <td>0.511628</td>\n",
       "      <td>{'C': 0.1, 'degree': 1, 'gamma': 0.0001, 'kern...</td>\n",
       "    </tr>\n",
       "    <tr>\n",
       "      <th>6</th>\n",
       "      <td>0.479804</td>\n",
       "      <td>{'C': 0.1, 'degree': 1, 'gamma': 0.001, 'kerne...</td>\n",
       "    </tr>\n",
       "    <tr>\n",
       "      <th>7</th>\n",
       "      <td>0.25459</td>\n",
       "      <td>{'C': 2, 'degree': 1, 'gamma': 0.01, 'kernel':...</td>\n",
       "    </tr>\n",
       "    <tr>\n",
       "      <th>8</th>\n",
       "      <td>0.500612</td>\n",
       "      <td>{'C': 0.5, 'degree': 1, 'gamma': 0.0001, 'kern...</td>\n",
       "    </tr>\n",
       "    <tr>\n",
       "      <th>9</th>\n",
       "      <td>0.335373</td>\n",
       "      <td>{'C': 0.5, 'degree': 1, 'gamma': 0.01, 'kernel...</td>\n",
       "    </tr>\n",
       "  </tbody>\n",
       "</table>\n",
       "</div>"
      ],
      "text/plain": [
       "   Accuracy                                         Parameters\n",
       "0  0.264994  {'C': 3, 'degree': 1, 'gamma': 0.001, 'kernel'...\n",
       "1  0.266218  {'C': 3, 'degree': 1, 'gamma': 0.1, 'kernel': ...\n",
       "2  0.517748  {'C': 1, 'degree': 1, 'gamma': 0.0001, 'kernel...\n",
       "3  0.331089  {'C': 0.5, 'degree': 1, 'gamma': 0.001, 'kerne...\n",
       "4   0.51836  {'C': 3, 'degree': 1, 'gamma': 0.01, 'kernel':...\n",
       "5  0.511628  {'C': 0.1, 'degree': 1, 'gamma': 0.0001, 'kern...\n",
       "6  0.479804  {'C': 0.1, 'degree': 1, 'gamma': 0.001, 'kerne...\n",
       "7   0.25459  {'C': 2, 'degree': 1, 'gamma': 0.01, 'kernel':...\n",
       "8  0.500612  {'C': 0.5, 'degree': 1, 'gamma': 0.0001, 'kern...\n",
       "9  0.335373  {'C': 0.5, 'degree': 1, 'gamma': 0.01, 'kernel..."
      ]
     },
     "execution_count": 49,
     "metadata": {},
     "output_type": "execute_result"
    }
   ],
   "source": [
    "final_df = pd.DataFrame(data=[acc_list, param_list], index=['Accuracy', 'Parameters']).T\n",
    "final_df"
   ]
  },
  {
   "cell_type": "code",
   "execution_count": 50,
   "metadata": {},
   "outputs": [
    {
     "name": "stdout",
     "output_type": "stream",
     "text": [
      "0.518359853121175\n",
      "{'C': 3, 'degree': 1, 'gamma': 0.01, 'kernel': 'poly'}\n",
      "SVC(C=3, degree=1, gamma=0.01, kernel='poly', max_iter=100)\n"
     ]
    },
    {
     "data": {
      "text/html": [
       "<div>\n",
       "<style scoped>\n",
       "    .dataframe tbody tr th:only-of-type {\n",
       "        vertical-align: middle;\n",
       "    }\n",
       "\n",
       "    .dataframe tbody tr th {\n",
       "        vertical-align: top;\n",
       "    }\n",
       "\n",
       "    .dataframe thead th {\n",
       "        text-align: right;\n",
       "    }\n",
       "</style>\n",
       "<table border=\"1\" class=\"dataframe\">\n",
       "  <thead>\n",
       "    <tr style=\"text-align: right;\">\n",
       "      <th></th>\n",
       "      <th>Area</th>\n",
       "      <th>Perimeter</th>\n",
       "      <th>MajorAxisLength</th>\n",
       "      <th>MinorAxisLength</th>\n",
       "      <th>AspectRation</th>\n",
       "      <th>Eccentricity</th>\n",
       "      <th>ConvexArea</th>\n",
       "      <th>EquivDiameter</th>\n",
       "      <th>Extent</th>\n",
       "      <th>Solidity</th>\n",
       "      <th>roundness</th>\n",
       "      <th>Compactness</th>\n",
       "      <th>ShapeFactor1</th>\n",
       "      <th>ShapeFactor2</th>\n",
       "      <th>ShapeFactor3</th>\n",
       "      <th>ShapeFactor4</th>\n",
       "      <th>Class</th>\n",
       "    </tr>\n",
       "  </thead>\n",
       "  <tbody>\n",
       "    <tr>\n",
       "      <th>10340</th>\n",
       "      <td>25601</td>\n",
       "      <td>579.206</td>\n",
       "      <td>206.351775</td>\n",
       "      <td>158.238735</td>\n",
       "      <td>1.304053</td>\n",
       "      <td>0.641839</td>\n",
       "      <td>25898</td>\n",
       "      <td>180.544193</td>\n",
       "      <td>0.757426</td>\n",
       "      <td>0.988532</td>\n",
       "      <td>0.958960</td>\n",
       "      <td>0.874934</td>\n",
       "      <td>0.008060</td>\n",
       "      <td>0.002914</td>\n",
       "      <td>0.765510</td>\n",
       "      <td>0.998265</td>\n",
       "      <td>DERMASON</td>\n",
       "    </tr>\n",
       "    <tr>\n",
       "      <th>12887</th>\n",
       "      <td>36411</td>\n",
       "      <td>717.877</td>\n",
       "      <td>273.481753</td>\n",
       "      <td>169.971328</td>\n",
       "      <td>1.608988</td>\n",
       "      <td>0.783407</td>\n",
       "      <td>36843</td>\n",
       "      <td>215.313551</td>\n",
       "      <td>0.749290</td>\n",
       "      <td>0.988275</td>\n",
       "      <td>0.887856</td>\n",
       "      <td>0.787305</td>\n",
       "      <td>0.007511</td>\n",
       "      <td>0.001780</td>\n",
       "      <td>0.619849</td>\n",
       "      <td>0.997330</td>\n",
       "      <td>DERMASON</td>\n",
       "    </tr>\n",
       "    <tr>\n",
       "      <th>9152</th>\n",
       "      <td>46411</td>\n",
       "      <td>807.342</td>\n",
       "      <td>307.584525</td>\n",
       "      <td>192.419462</td>\n",
       "      <td>1.598510</td>\n",
       "      <td>0.780158</td>\n",
       "      <td>46925</td>\n",
       "      <td>243.089121</td>\n",
       "      <td>0.793350</td>\n",
       "      <td>0.989046</td>\n",
       "      <td>0.894779</td>\n",
       "      <td>0.790316</td>\n",
       "      <td>0.006627</td>\n",
       "      <td>0.001595</td>\n",
       "      <td>0.624600</td>\n",
       "      <td>0.998430</td>\n",
       "      <td>SIRA</td>\n",
       "    </tr>\n",
       "    <tr>\n",
       "      <th>62</th>\n",
       "      <td>32518</td>\n",
       "      <td>655.131</td>\n",
       "      <td>220.821199</td>\n",
       "      <td>187.665586</td>\n",
       "      <td>1.176674</td>\n",
       "      <td>0.527020</td>\n",
       "      <td>32842</td>\n",
       "      <td>203.477772</td>\n",
       "      <td>0.794032</td>\n",
       "      <td>0.990135</td>\n",
       "      <td>0.952089</td>\n",
       "      <td>0.921459</td>\n",
       "      <td>0.006791</td>\n",
       "      <td>0.003020</td>\n",
       "      <td>0.849087</td>\n",
       "      <td>0.999099</td>\n",
       "      <td>SEKER</td>\n",
       "    </tr>\n",
       "    <tr>\n",
       "      <th>8391</th>\n",
       "      <td>42989</td>\n",
       "      <td>786.826</td>\n",
       "      <td>287.248274</td>\n",
       "      <td>191.264908</td>\n",
       "      <td>1.501835</td>\n",
       "      <td>0.746084</td>\n",
       "      <td>43594</td>\n",
       "      <td>233.955754</td>\n",
       "      <td>0.719698</td>\n",
       "      <td>0.986122</td>\n",
       "      <td>0.872589</td>\n",
       "      <td>0.814472</td>\n",
       "      <td>0.006682</td>\n",
       "      <td>0.001814</td>\n",
       "      <td>0.663365</td>\n",
       "      <td>0.996265</td>\n",
       "      <td>SIRA</td>\n",
       "    </tr>\n",
       "  </tbody>\n",
       "</table>\n",
       "</div>"
      ],
      "text/plain": [
       "        Area  Perimeter  MajorAxisLength  MinorAxisLength  AspectRation  \\\n",
       "10340  25601    579.206       206.351775       158.238735      1.304053   \n",
       "12887  36411    717.877       273.481753       169.971328      1.608988   \n",
       "9152   46411    807.342       307.584525       192.419462      1.598510   \n",
       "62     32518    655.131       220.821199       187.665586      1.176674   \n",
       "8391   42989    786.826       287.248274       191.264908      1.501835   \n",
       "\n",
       "       Eccentricity  ConvexArea  EquivDiameter    Extent  Solidity  roundness  \\\n",
       "10340      0.641839       25898     180.544193  0.757426  0.988532   0.958960   \n",
       "12887      0.783407       36843     215.313551  0.749290  0.988275   0.887856   \n",
       "9152       0.780158       46925     243.089121  0.793350  0.989046   0.894779   \n",
       "62         0.527020       32842     203.477772  0.794032  0.990135   0.952089   \n",
       "8391       0.746084       43594     233.955754  0.719698  0.986122   0.872589   \n",
       "\n",
       "       Compactness  ShapeFactor1  ShapeFactor2  ShapeFactor3  ShapeFactor4  \\\n",
       "10340     0.874934      0.008060      0.002914      0.765510      0.998265   \n",
       "12887     0.787305      0.007511      0.001780      0.619849      0.997330   \n",
       "9152      0.790316      0.006627      0.001595      0.624600      0.998430   \n",
       "62        0.921459      0.006791      0.003020      0.849087      0.999099   \n",
       "8391      0.814472      0.006682      0.001814      0.663365      0.996265   \n",
       "\n",
       "          Class  \n",
       "10340  DERMASON  \n",
       "12887  DERMASON  \n",
       "9152       SIRA  \n",
       "62        SEKER  \n",
       "8391       SIRA  "
      ]
     },
     "execution_count": 50,
     "metadata": {},
     "output_type": "execute_result"
    }
   ],
   "source": [
    "print(max_acc)\n",
    "print(best_params)\n",
    "print(best_model)\n",
    "best_sample_df.head()"
   ]
  },
  {
   "cell_type": "code",
   "execution_count": 54,
   "metadata": {},
   "outputs": [],
   "source": [
    "iterations = list()\n",
    "acc_list = list()\n",
    "x_train, x_test, y_train, y_test = train_test_split(best_sample_df.drop('Class', axis=1), best_sample_df.Class, test_size=0.3, random_state=42, stratify=best_sample_df.Class)\n",
    "x_train = StandardScaler().fit_transform(x_train)\n",
    "\n",
    "for i in range(100):\n",
    "    x = i+1\n",
    "    svm = SVC(C=2, degree=1, gamma=0.1, kernel='rbf', max_iter=x)\n",
    "    svm.fit(x_train, y_train)\n",
    "    y_pred = svm.predict(x_test)\n",
    "    accuracy = accuracy_score(y_test, y_pred)\n",
    "    acc_list.append(accuracy)\n",
    "    iterations.append(x)"
   ]
  },
  {
   "cell_type": "code",
   "execution_count": 55,
   "metadata": {},
   "outputs": [],
   "source": [
    "iterations = np.array(iterations)\n",
    "acc_list = np.array(acc_list)"
   ]
  },
  {
   "cell_type": "code",
   "execution_count": 56,
   "metadata": {},
   "outputs": [
    {
     "name": "stdout",
     "output_type": "stream",
     "text": [
      "(100,)\n",
      "(100,)\n"
     ]
    }
   ],
   "source": [
    "print(iterations.shape)\n",
    "print(acc_list.shape)"
   ]
  },
  {
   "cell_type": "code",
   "execution_count": 58,
   "metadata": {},
   "outputs": [
    {
     "data": {
      "image/png": "[encoded data removed]",
      "text/plain": [
       "<Figure size 640x480 with 1 Axes>"
      ]
     },
     "metadata": {},
     "output_type": "display_data"
    }
   ],
   "source": [
    "plt.plot(iterations, acc_list)\n",
    "plt.xlabel('Iterations')\n",
    "plt.ylabel('Accuracy')\n",
    "plt.title('Convergence Graph of SVC')\n",
    "plt.show()"
   ]
  }
 ],
 "metadata": {
  "kernelspec": {
   "display_name": "Python 3",
   "language": "python",
   "name": "python3"
  },
  "language_info": {
   "codemirror_mode": {
    "name": "ipython",
    "version": 3
   },
   "file_extension": ".py",
   "mimetype": "text/x-python",
   "name": "python",
   "nbconvert_exporter": "python",
   "pygments_lexer": "ipython3",
   "version": "3.11.1"
  },
  "orig_nbformat": 4
 },
 "nbformat": 4,
 "nbformat_minor": 2
}
